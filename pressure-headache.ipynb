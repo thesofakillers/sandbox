{
 "cells": [
  {
   "cell_type": "code",
   "execution_count": 8,
   "id": "69e52c44-f86b-41e6-b112-1292a56833a1",
   "metadata": {},
   "outputs": [],
   "source": [
    "import pandas as pd\n",
    "import matplotlib.pyplot as plt\n",
    "import seaborn as sns\n",
    "import time\n",
    "\n",
    "pd.set_option('display.max_rows', 100)"
   ]
  },
  {
   "cell_type": "code",
   "execution_count": 9,
   "id": "752e0693-8228-4ad5-9d3d-ec3c99f506d6",
   "metadata": {},
   "outputs": [
    {
     "name": "stderr",
     "output_type": "stream",
     "text": [
      "/var/folders/my/lvxg1n852nq3vf2vvjqcrzp80000gn/T/ipykernel_93976/4211753255.py:19: PerformanceWarning: DataFrame is highly fragmented.  This is usually the result of calling `frame.insert` many times, which has poor performance.  Consider joining all columns at once using pd.concat(axis=1) instead. To get a de-fragmented frame, use `newframe = frame.copy()`\n",
      "  daylio[activity] = 0\n",
      "/var/folders/my/lvxg1n852nq3vf2vvjqcrzp80000gn/T/ipykernel_93976/4211753255.py:19: PerformanceWarning: DataFrame is highly fragmented.  This is usually the result of calling `frame.insert` many times, which has poor performance.  Consider joining all columns at once using pd.concat(axis=1) instead. To get a de-fragmented frame, use `newframe = frame.copy()`\n",
      "  daylio[activity] = 0\n"
     ]
    }
   ],
   "source": [
    "def detect_activity(row, activity_list):\n",
    "    new_row = row\n",
    "    mask = [1 if activity in row[\"activities\"] else 0 for activity in activity_list]\n",
    "    new_row[3:] = mask\n",
    "    return new_row\n",
    "\n",
    "daylio = pd.read_csv(\n",
    "    \"data/daylio.csv\",\n",
    "    usecols=[\"full_date\", \"weekday\", \"mood\", \"activities\"],\n",
    "    index_col=\"full_date\",\n",
    "    parse_dates=True,\n",
    ")\n",
    "# parse activities\n",
    "unique_activities = (\n",
    "    daylio[\"activities\"].str.split(r\"\\s*\\|\\s*\", expand=True).stack().unique()\n",
    ")\n",
    "daylio[\"activities\"] = daylio.activities.apply(lambda x: x.split(\" | \"))\n",
    "for activity in unique_activities:\n",
    "    daylio[activity] = 0\n",
    "daylio = daylio.apply(lambda x: detect_activity(x, unique_activities), axis=1)\n",
    "daylio.drop(columns=\"activities\", inplace=True)\n",
    "# convert moods to ordinal\n",
    "mood_map = {\"awful\": -2, \"bad\": -1, \"meh\": 0, \"good\": 1, \"rad\": 2}\n",
    "inv_mood_map = {v:k for k,v in mood_map.items()}\n",
    "daylio.mood =  daylio.mood.map(mood_map)"
   ]
  },
  {
   "cell_type": "code",
   "execution_count": null,
   "id": "2feb991a-4d3f-4d14-aca2-d7213bf49f87",
   "metadata": {},
   "outputs": [],
   "source": [
    "1414066"
   ]
  },
  {
   "cell_type": "code",
   "execution_count": 4,
   "id": "6c388fdd-14a2-4139-b8d8-bc91e9135090",
   "metadata": {},
   "outputs": [],
   "source": [
    "import ijson\n",
    "from tqdm import tqdm"
   ]
  },
  {
   "cell_type": "code",
   "execution_count": 5,
   "id": "c0f0cf50-2787-4c8b-8594-55e3c722ae42",
   "metadata": {},
   "outputs": [
    {
     "name": "stderr",
     "output_type": "stream",
     "text": [
      "1867664it [00:19, 93614.68it/s]                                                                      \n"
     ]
    }
   ],
   "source": [
    "locations = []\n",
    "with open(\"data/locations.json\", \"rb\") as f:\n",
    "    counter = 0\n",
    "    for record in tqdm(ijson.items(f, \"locations.item\"), total=1867663):\n",
    "        counter +=1\n",
    "        if counter > 1414066:\n",
    "            locations.append(record)"
   ]
  },
  {
   "cell_type": "code",
   "execution_count": 19,
   "id": "d59d283e-4ed7-458d-a6f3-dde8cebb1bcd",
   "metadata": {},
   "outputs": [],
   "source": [
    "locations_df = pd.DataFrame(locations)\n",
    "locations_df.set_index('timestamp', inplace=True)\n",
    "locations_df.index = pd.to_datetime(locations_df.index)"
   ]
  },
  {
   "cell_type": "code",
   "execution_count": null,
   "id": "10f39283-7582-4195-ac87-26ee17f485e1",
   "metadata": {},
   "outputs": [],
   "source": []
  }
 ],
 "metadata": {
  "kernelspec": {
   "display_name": "sandbox",
   "language": "python",
   "name": "sandbox"
  },
  "language_info": {
   "codemirror_mode": {
    "name": "ipython",
    "version": 3
   },
   "file_extension": ".py",
   "mimetype": "text/x-python",
   "name": "python",
   "nbconvert_exporter": "python",
   "pygments_lexer": "ipython3",
   "version": "3.9.12"
  }
 },
 "nbformat": 4,
 "nbformat_minor": 5
}
